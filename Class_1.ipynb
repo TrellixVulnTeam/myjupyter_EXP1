{
 "cells": [
  {
   "cell_type": "code",
   "execution_count": 1,
   "id": "dad54bf1",
   "metadata": {
    "scrolled": true
   },
   "outputs": [
    {
     "name": "stdout",
     "output_type": "stream",
     "text": [
      "h\n",
      "e\n",
      "l\n",
      "l\n",
      "o\n",
      ",\n",
      " \n",
      "w\n",
      "o\n",
      "r\n",
      "l\n",
      "d\n",
      "!\n"
     ]
    }
   ],
   "source": [
    "for letter in \"hello, world!\":\n",
    "    print(letter)\n"
   ]
  },
  {
   "cell_type": "markdown",
   "id": "f649d87e",
   "metadata": {},
   "source": [
    "# Problem 1\n",
    "### Given two strings (string_a and string_b) let's check whether they're anagrams given the following criteria:\n",
    "> Two strings are only anagrams of each other if all conditions below are met:\n",
    "> * They must be exactly same length;\n",
    "> * They must use exactly the same characters\n",
    "Example: cars and scar; heart and earth\n"
   ]
  },
  {
   "cell_type": "markdown",
   "id": "8b2beef7",
   "metadata": {},
   "source": [
    "> Compare first character of string_a and do for loop to see if there is a match with each character in string b; \n",
    "> Issue is -- would you need to separate each character so that it's its own value? So maybe -- start with a function that takes each character and separates them into their own respective strings?  \n",
    "> And if there is no match, return False; if match, go to character 2 (or index 1 if able to separate into own strings) and do the same. \n"
   ]
  },
  {
   "cell_type": "code",
   "execution_count": 4,
   "id": "879945f1",
   "metadata": {},
   "outputs": [],
   "source": [
    "def is_anagram(string_a, string_b):                         #function declaration(two parameters)\n",
    "    if len(string_a) != len(string_b):                      # checking if strings are not of same length \n",
    "        return False                                        # this guarantees best case time complexity = O(1) - constant time\n",
    "    char_times_a = dict()\n",
    "    char_times_b = dict()                                   # declaring two dictionaries to track characters\n",
    "    for i in range(len(string_a)):                          # Looping for each value in range 1 to (size of string_a)\n",
    "        if string_a[i] not in char_times_a.keys():          # Checking if we've seen the character\n",
    "            char_times_a[string_a[i]] = 0                   # if we haven't, we record it in our dictionary\n",
    "        else:\n",
    "            char_times_a[string[i]] += 1                    # if we have we increment how many times we've seen it\n",
    "        if string_b[i] not in char_times_b.keys():\n",
    "            char_times_b[string_b[i]] = 0\n",
    "        else:\n",
    "            char_times_b[string_b[i]] += 1\n",
    "    return char_times_a == char_times_b                     # check if dictionaries are equal by the end of our loop"
   ]
  },
  {
   "cell_type": "code",
   "execution_count": 5,
   "id": "5963260d",
   "metadata": {},
   "outputs": [
    {
     "data": {
      "text/plain": [
       "True"
      ]
     },
     "execution_count": 5,
     "metadata": {},
     "output_type": "execute_result"
    }
   ],
   "source": [
    "is_anagram(\"cars\", \"scar\")"
   ]
  },
  {
   "cell_type": "code",
   "execution_count": 6,
   "id": "09df21ea",
   "metadata": {},
   "outputs": [
    {
     "data": {
      "text/plain": [
       "False"
      ]
     },
     "execution_count": 6,
     "metadata": {},
     "output_type": "execute_result"
    }
   ],
   "source": [
    "is_anagram(\"cars \", \"scar\")"
   ]
  },
  {
   "cell_type": "markdown",
   "id": "90595d69",
   "metadata": {},
   "source": [
    "Helper functions¶\n",
    "string.capwords(s, sep=None)\n",
    "Split the argument into words using str.split(), capitalize each word using str.capitalize(), and join the capitalized words using str.join(). If the optional second argument sep is absent or None, runs of whitespace characters are replaced by a single space and leading and trailing whitespace are removed, otherwise sep is used to split and join the words.\n"
   ]
  },
  {
   "cell_type": "markdown",
   "id": "6bb2504d",
   "metadata": {},
   "source": [
    "last paragraph of this doc: https://docs.python.org/3.9/library/string.html\n"
   ]
  },
  {
   "cell_type": "code",
   "execution_count": 7,
   "id": "1aaecd21",
   "metadata": {},
   "outputs": [],
   "source": [
    "#NEW DISCUSSION"
   ]
  },
  {
   "cell_type": "code",
   "execution_count": 31,
   "id": "d566ac6c",
   "metadata": {},
   "outputs": [],
   "source": [
    "class Stack: \n",
    "    def __init__(self):\n",
    "        self.items = []\n",
    "    \n",
    "    def is_empty(self):\n",
    "        return self.items == []\n",
    "    \n",
    "    def push(self, item):\n",
    "        self.items.append(item)\n",
    "        \n",
    "    def pop(self):\n",
    "        return self.items.pop()\n",
    "        \n",
    "    def peek(self):\n",
    "        return self.items[len(self.items)-1]\n",
    "    \n",
    "    def size(self):\n",
    "        return len(self.items)\n",
    "    \n",
    "    def __len__(self):\n",
    "        return self.size()"
   ]
  },
  {
   "cell_type": "markdown",
   "id": "00808385",
   "metadata": {},
   "source": [
    "# Problem 2: reverse a string\n",
    "### Use a stack to reverse a string\n",
    "> * star -> rats\n",
    "> * racecar -> racecar"
   ]
  },
  {
   "cell_type": "code",
   "execution_count": 32,
   "id": "7edb20ce",
   "metadata": {},
   "outputs": [],
   "source": [
    "def reverse_string(my_string):\n",
    "    mystack = Stack()    \n",
    "    for char in my_string:\n",
    "        mystack.push(char)\n",
    "    string_out = \"\"\n",
    "    while mystack.is_empty() == False:\n",
    "        string_out += mystack.pop()\n",
    "    return string_out"
   ]
  },
  {
   "cell_type": "code",
   "execution_count": 33,
   "id": "1c9ffab3",
   "metadata": {},
   "outputs": [
    {
     "data": {
      "text/plain": [
       "'olleh'"
      ]
     },
     "execution_count": 33,
     "metadata": {},
     "output_type": "execute_result"
    }
   ],
   "source": [
    "reverse_string(\"hello\")"
   ]
  },
  {
   "cell_type": "code",
   "execution_count": 30,
   "id": "0984c126",
   "metadata": {},
   "outputs": [],
   "source": [
    "class Queue:\n",
    "    def __init__(self):\n",
    "        self.items = []\n",
    "        \n",
    "    def is_empty(self):\n",
    "        return self.items == []\n",
    "    \n",
    "    def enqueue(self, item):\n",
    "        self.items.insert(0, item)\n",
    "        \n",
    "    def dequeue(self):\n",
    "        return self.items.pop()\n",
    "    \n",
    "    def size(self):\n",
    "        return len(self.items)"
   ]
  },
  {
   "cell_type": "code",
   "execution_count": 35,
   "id": "3810cb0d",
   "metadata": {},
   "outputs": [],
   "source": [
    "from string import ascii_lowercase\n",
    "from random import randint, choice\n",
    "from time import sleep\n",
    "\n",
    "\n",
    "def register_visitors(visitor_queue):\n",
    "    for char in ascii_lowercase:\n",
    "        visitor_queue.enqueue(char)\n",
    "\n",
    "def service_customers(visitor_queue):\n",
    "    bank_tellers = [\"A\", \"B\", \"C\", \"D\", \"E\", \"F\", \"G\"]\n",
    "    while not visitor_queue.is_empty():    #make sure this works\n",
    "        visitor = visitor_queue.dequeue()\n",
    "        print(\"Thank you for waiting %s, station %s is ready for you.\"\n",
    "                 % (visitor, choice(bank_tellers)))\n",
    "        sleep(randint(1, 2))\n",
    "    print(\"Empty visitor queue.\")\n",
    "    \n",
    "def main():\n",
    "    visitor_queue = Queue()\n",
    "    register_visitors(visitor_queue)\n",
    "    service_customers(visitor_queue)"
   ]
  },
  {
   "cell_type": "code",
   "execution_count": 36,
   "id": "e71fa848",
   "metadata": {},
   "outputs": [
    {
     "name": "stdout",
     "output_type": "stream",
     "text": [
      "Thank you for waiting a, station D is ready for you.\n",
      "Thank you for waiting b, station C is ready for you.\n",
      "Thank you for waiting c, station E is ready for you.\n",
      "Thank you for waiting d, station G is ready for you.\n",
      "Thank you for waiting e, station B is ready for you.\n",
      "Thank you for waiting f, station B is ready for you.\n",
      "Thank you for waiting g, station C is ready for you.\n",
      "Thank you for waiting h, station F is ready for you.\n",
      "Thank you for waiting i, station E is ready for you.\n",
      "Thank you for waiting j, station D is ready for you.\n",
      "Thank you for waiting k, station D is ready for you.\n",
      "Thank you for waiting l, station F is ready for you.\n",
      "Thank you for waiting m, station C is ready for you.\n",
      "Thank you for waiting n, station E is ready for you.\n",
      "Thank you for waiting o, station A is ready for you.\n",
      "Thank you for waiting p, station C is ready for you.\n",
      "Thank you for waiting q, station E is ready for you.\n",
      "Thank you for waiting r, station B is ready for you.\n",
      "Thank you for waiting s, station E is ready for you.\n",
      "Thank you for waiting t, station G is ready for you.\n",
      "Thank you for waiting u, station G is ready for you.\n",
      "Thank you for waiting v, station B is ready for you.\n",
      "Thank you for waiting w, station D is ready for you.\n",
      "Thank you for waiting x, station E is ready for you.\n",
      "Thank you for waiting y, station B is ready for you.\n",
      "Thank you for waiting z, station A is ready for you.\n",
      "Empty visitor queue.\n"
     ]
    }
   ],
   "source": [
    "main()"
   ]
  },
  {
   "cell_type": "markdown",
   "id": "23b91d4e",
   "metadata": {},
   "source": [
    "declare  balance_check function\n",
    "I want to do a Stack - so that it's LIFO\n"
   ]
  },
  {
   "cell_type": "code",
   "execution_count": null,
   "id": "1feda48a",
   "metadata": {},
   "outputs": [],
   "source": []
  }
 ],
 "metadata": {
  "kernelspec": {
   "display_name": "Python 3 (ipykernel)",
   "language": "python",
   "name": "python3"
  },
  "language_info": {
   "codemirror_mode": {
    "name": "ipython",
    "version": 3
   },
   "file_extension": ".py",
   "mimetype": "text/x-python",
   "name": "python",
   "nbconvert_exporter": "python",
   "pygments_lexer": "ipython3",
   "version": "3.8.10"
  }
 },
 "nbformat": 4,
 "nbformat_minor": 5
}
